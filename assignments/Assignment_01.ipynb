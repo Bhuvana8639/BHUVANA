{
  "cells": [
    {
      "cell_type": "markdown",
      "metadata": {
        "id": "view-in-github",
        "colab_type": "text"
      },
      "source": [
        "<a href=\"https://colab.research.google.com/github/Bhuvana8639/BHUVANA/blob/main/assignments/Assignment_01.ipynb\" target=\"_parent\"><img src=\"https://colab.research.google.com/assets/colab-badge.svg\" alt=\"Open In Colab\"/></a>"
      ]
    },
    {
      "cell_type": "markdown",
      "id": "548b84c2-e24f-4a12-98bb-5e7bd5ec86bd",
      "metadata": {
        "id": "548b84c2-e24f-4a12-98bb-5e7bd5ec86bd"
      },
      "source": [
        "# Python"
      ]
    },
    {
      "cell_type": "markdown",
      "id": "99fbfc45-ba9e-4766-8219-f5dbcacc8481",
      "metadata": {
        "id": "99fbfc45-ba9e-4766-8219-f5dbcacc8481"
      },
      "source": [
        "<a target=\"_blank\" href=\"https://colab.research.google.com/github/kgsb24/rishi-college/blob/main/assignments/Assignment_01.ipynb\">\n",
        "  <img src=\"https://colab.research.google.com/assets/colab-badge.svg\" alt=\"Open In Colab\"/>\n",
        "</a>"
      ]
    },
    {
      "cell_type": "markdown",
      "id": "07a1f870-f905-4703-8b65-12e83172133a",
      "metadata": {
        "id": "07a1f870-f905-4703-8b65-12e83172133a"
      },
      "source": [
        "## Basic Python Fundamentals"
      ]
    },
    {
      "cell_type": "code",
      "execution_count": null,
      "id": "502e1d87-2fdd-4588-a330-2af21268215e",
      "metadata": {
        "colab": {
          "base_uri": "https://localhost:8080/"
        },
        "id": "502e1d87-2fdd-4588-a330-2af21268215e",
        "outputId": "912e2961-05fd-4470-edfd-efe9604832b6"
      },
      "outputs": [
        {
          "output_type": "execute_result",
          "data": {
            "text/plain": [
              "int"
            ]
          },
          "metadata": {},
          "execution_count": 3
        }
      ],
      "source": [
        "# Write a Python program to declare a variable x with the value 10 and print its type.\n",
        "x=10\n",
        "type(x)"
      ]
    },
    {
      "cell_type": "code",
      "execution_count": null,
      "id": "dae77579-4b7d-4f06-96e0-7bdfe43860d7",
      "metadata": {
        "colab": {
          "base_uri": "https://localhost:8080/"
        },
        "id": "dae77579-4b7d-4f06-96e0-7bdfe43860d7",
        "outputId": "368a9607-ca2f-4ca0-cf79-7b07f0e62dbc"
      },
      "outputs": [
        {
          "output_type": "stream",
          "name": "stdout",
          "text": [
            "sum: 30\n"
          ]
        }
      ],
      "source": [
        "# Write a Python program to declare three variables a = 5, b = 10, and c = 15, and print their sum.\n",
        "a=5\n",
        "b=10\n",
        "c=15\n",
        "print (\"sum:\",a+b+c)"
      ]
    },
    {
      "cell_type": "code",
      "execution_count": null,
      "id": "c32867b2-a615-426a-89ae-bd2793b6a4dc",
      "metadata": {
        "colab": {
          "base_uri": "https://localhost:8080/"
        },
        "id": "c32867b2-a615-426a-89ae-bd2793b6a4dc",
        "outputId": "60a31ef0-047c-4119-f424-3caff9971342"
      },
      "outputs": [
        {
          "output_type": "stream",
          "name": "stdout",
          "text": [
            "<class 'int'>\n",
            "<class 'float'>\n",
            "<class 'str'>\n"
          ]
        }
      ],
      "source": [
        "# Write a Python program that checks and prints the type of a variable (e.g., int, float, str, etc.).\n",
        "a=5\n",
        "b=9.5\n",
        "c='bhuvana'\n",
        "print(type(a))\n",
        "print(type(b))\n",
        "print(type(c))"
      ]
    },
    {
      "cell_type": "code",
      "execution_count": null,
      "id": "8b233e41-9d44-4869-9ead-afb3ff1c0b67",
      "metadata": {
        "colab": {
          "base_uri": "https://localhost:8080/"
        },
        "id": "8b233e41-9d44-4869-9ead-afb3ff1c0b67",
        "outputId": "df819ae6-a3dd-4e59-cb49-1f0edfe6caf6"
      },
      "outputs": [
        {
          "output_type": "stream",
          "name": "stdout",
          "text": [
            "subtraction: 1\n",
            "addition: 17\n",
            "multiplication: 72\n",
            "division: 1.125\n"
          ]
        }
      ],
      "source": [
        "# Write a Python program to perform addition, subtraction, multiplication, and division on two numbers. (User input is required for the numbers)\n",
        "x=9\n",
        "y=8\n",
        "print (\"subtraction:\",x-y)\n",
        "print (\"addition:\",x+y)\n",
        "print (\"multiplication:\",x*y)\n",
        "print (\"division:\",x/y)"
      ]
    },
    {
      "cell_type": "code",
      "execution_count": null,
      "id": "629435bd-6bfa-44de-91d9-3b2937713257",
      "metadata": {
        "id": "629435bd-6bfa-44de-91d9-3b2937713257",
        "outputId": "492cb304-45d3-443e-9506-b5cf3d7deb0d",
        "colab": {
          "base_uri": "https://localhost:8080/"
        }
      },
      "outputs": [
        {
          "output_type": "stream",
          "name": "stdout",
          "text": [
            "Integer_value: 123\n",
            "Float_value: 123.0\n"
          ]
        }
      ],
      "source": [
        "# Write a Python program to convert a string \"123\" to an integer and a float and print the results.\n",
        "integer_value=int(\"123\")\n",
        "float_value=float(\"123\")\n",
        "print(\"Integer_value:\", integer_value)\n",
        "print(\"Float_value:\", float_value)"
      ]
    },
    {
      "cell_type": "code",
      "execution_count": null,
      "id": "599421f1-51c1-4653-9d78-b007fcc6861b",
      "metadata": {
        "id": "599421f1-51c1-4653-9d78-b007fcc6861b",
        "colab": {
          "base_uri": "https://localhost:8080/"
        },
        "outputId": "27b788ea-d49b-47ce-ee7d-f22b53e166a7"
      },
      "outputs": [
        {
          "output_type": "stream",
          "name": "stdout",
          "text": [
            "enter a string:bhuvana' \n",
            "first character: b\n"
          ]
        }
      ],
      "source": [
        "# Write a Python program to print the first character of a given string. (User input for the string)\n",
        "string=input(\"enter a string:\")\n",
        "print(\"first character:\", string[0])"
      ]
    },
    {
      "cell_type": "code",
      "execution_count": null,
      "id": "54ee0a5d-415f-40b6-b82e-c0de12a002f9",
      "metadata": {
        "id": "54ee0a5d-415f-40b6-b82e-c0de12a002f9",
        "colab": {
          "base_uri": "https://localhost:8080/"
        },
        "outputId": "2c306456-eafb-4e45-ed2f-514e2be1df11"
      },
      "outputs": [
        {
          "output_type": "stream",
          "name": "stdout",
          "text": [
            "Enter a stringBhavana \n",
            "length of the string 8\n"
          ]
        }
      ],
      "source": [
        "# Write a Python program to print the length of a string. (User input for the string)\n",
        "string=input(\"Enter a string\")\n",
        "print(\"length of the string\",len(string))"
      ]
    },
    {
      "cell_type": "code",
      "execution_count": null,
      "id": "65f44c33-618e-4337-a9d1-9de888c93a0a",
      "metadata": {
        "id": "65f44c33-618e-4337-a9d1-9de888c93a0a",
        "outputId": "568aff4e-b2ae-4bc8-8aeb-51aee34da3f6",
        "colab": {
          "base_uri": "https://localhost:8080/"
        }
      },
      "outputs": [
        {
          "output_type": "stream",
          "name": "stdout",
          "text": [
            "enter a string:Bhavya \n",
            "strings contains only alphabet\n"
          ]
        }
      ],
      "source": [
        "# Write a Python program to check if a given string contains only alphabets.\n",
        "string=input(\"enter a string:\")\n",
        "print(\"strings contains only alphabet\")"
      ]
    },
    {
      "cell_type": "code",
      "execution_count": null,
      "id": "37463128-2b51-4860-b6bf-40d3c03fbe84",
      "metadata": {
        "id": "37463128-2b51-4860-b6bf-40d3c03fbe84",
        "outputId": "789ab8f6-24b1-4603-fcb2-f279654e87ac",
        "colab": {
          "base_uri": "https://localhost:8080/"
        }
      },
      "outputs": [
        {
          "output_type": "stream",
          "name": "stdout",
          "text": [
            "enter  first string:Bhuvana' \n",
            "enter second string:Anitha \n",
            "concatenated string: Bhuvana' Anitha \n"
          ]
        }
      ],
      "source": [
        "# Write a Python program to concatenate two strings. (User input for the strings)\n",
        "string1=input(\"enter  first string:\")\n",
        "string2=input(\"enter second string:\")\n",
        "print(\"concatenated string:\", string1+string2)"
      ]
    },
    {
      "cell_type": "code",
      "execution_count": null,
      "id": "b1c5d364-eccf-473a-b03a-ab15f3e917cf",
      "metadata": {
        "id": "b1c5d364-eccf-473a-b03a-ab15f3e917cf",
        "outputId": "5707f3ab-c108-4a1d-a71d-87c3606f434f",
        "colab": {
          "base_uri": "https://localhost:8080/"
        }
      },
      "outputs": [
        {
          "output_type": "stream",
          "name": "stdout",
          "text": [
            "enter a string:Bhavani\n",
            "index of 'abc':\n",
            "'abc'not found in the string\n"
          ]
        }
      ],
      "source": [
        "# Write a Python program to find the index of a substring \"abc\" in a string. (User input for the string)\n",
        "string=input(\"enter a string:\")\n",
        "index=string.find(\"abc\")\n",
        "print(\"index of 'abc':\")\n",
        "print(\"'abc'not found in the string\")"
      ]
    },
    {
      "cell_type": "code",
      "execution_count": null,
      "id": "cc92afd9-ba4b-4934-a79d-f26825b4efc2",
      "metadata": {
        "id": "cc92afd9-ba4b-4934-a79d-f26825b4efc2",
        "outputId": "50bd55f3-72fe-4b08-ad4a-4268ef96f743",
        "colab": {
          "base_uri": "https://localhost:8080/"
        }
      },
      "outputs": [
        {
          "output_type": "stream",
          "name": "stdout",
          "text": [
            "enter a string:Bhuvana\n",
            "uppercase: BHUVANA\n",
            "lowercase: bhuvana\n"
          ]
        }
      ],
      "source": [
        "# Write a Python program to convert a string to both uppercase and lowercase. (User input for the string)\n",
        "string=input(\"enter a string:\")\n",
        "print(\"uppercase:\",string.upper())\n",
        "print(\"lowercase:\",string.lower())"
      ]
    },
    {
      "cell_type": "code",
      "execution_count": null,
      "id": "f24f79b3-da8b-44bf-8310-c68442e86e3e",
      "metadata": {
        "id": "f24f79b3-da8b-44bf-8310-c68442e86e3e",
        "colab": {
          "base_uri": "https://localhost:8080/"
        },
        "outputId": "57a67be0-5d73-4854-fbce-eea89b7a0002"
      },
      "outputs": [
        {
          "output_type": "stream",
          "name": "stdout",
          "text": [
            "Enter a string:Bhuvana' \n",
            "Enter a character:5\n",
            "Character,appear times\n"
          ]
        }
      ],
      "source": [
        "# Write a Python program to count how many times a particular character appears in a string. (User input for string and character)\n",
        "string=input (\"Enter a string:\")\n",
        "string=input (\"Enter a character:\")\n",
        "print (\"Character,appear times\")"
      ]
    },
    {
      "cell_type": "code",
      "execution_count": null,
      "id": "f2e8f25c-5c34-44eb-b749-7cc4c100b9a8",
      "metadata": {
        "id": "f2e8f25c-5c34-44eb-b749-7cc4c100b9a8",
        "colab": {
          "base_uri": "https://localhost:8080/"
        },
        "outputId": "2e757997-22a7-4118-8bca-ca7da746deb3"
      },
      "outputs": [
        {
          "output_type": "stream",
          "name": "stdout",
          "text": [
            "enter your name:Bhuvana\n",
            "Hello,good morning.\n"
          ]
        }
      ],
      "source": [
        "# Write a Python program to take the user's name as input and print a personalized greeting. (Hello, username, Good Morning)\n",
        "input (\"enter your name:\")\n",
        "print (\"Hello,good morning.\")"
      ]
    },
    {
      "cell_type": "code",
      "execution_count": null,
      "id": "189296cf-77e6-4f48-b010-77458da5bc9d",
      "metadata": {
        "id": "189296cf-77e6-4f48-b010-77458da5bc9d",
        "colab": {
          "base_uri": "https://localhost:8080/"
        },
        "outputId": "fda6e351-078f-4aa1-defc-39c2eb423b8a"
      },
      "outputs": [
        {
          "output_type": "stream",
          "name": "stdout",
          "text": [
            "enter first number:9\n",
            "enter second number:8\n",
            "sum\n"
          ]
        }
      ],
      "source": [
        "# Write a Python program to take two numbers as input and print their sum.\n",
        "num=float (input(\"enter first number:\"))\n",
        "num=float (input(\"enter second number:\"))\n",
        "print(\"sum\")"
      ]
    },
    {
      "cell_type": "code",
      "execution_count": null,
      "id": "0563b26c-0218-47b8-9035-98beb73b0931",
      "metadata": {
        "id": "0563b26c-0218-47b8-9035-98beb73b0931",
        "colab": {
          "base_uri": "https://localhost:8080/"
        },
        "outputId": "aa628366-2e09-407a-e3e1-935cc3d4c12a"
      },
      "outputs": [
        {
          "output_type": "stream",
          "name": "stdout",
          "text": [
            "enter your Name:Bhuvana \n",
            "enter your Age:12\n",
            "hello.my name is and i am years old.\n"
          ]
        }
      ],
      "source": [
        "{}# Write a Python program to format and display a string containing the user's name and age. (User input requi\n",
        "input (\"enter your Name:\")\n",
        "age=int(input(\"enter your Age:\"))\n",
        "print(\"hello.my name is and i am years old.\")"
      ]
    },
    {
      "cell_type": "markdown",
      "id": "0bde6e5a-0415-4b06-8b5a-95fa252b34eb",
      "metadata": {
        "id": "0bde6e5a-0415-4b06-8b5a-95fa252b34eb"
      },
      "source": [
        "## Control Structures (Conditionals and Loops)"
      ]
    },
    {
      "cell_type": "code",
      "execution_count": null,
      "id": "aefff5f3-b61e-43e6-a458-7367ef1af9de",
      "metadata": {
        "id": "aefff5f3-b61e-43e6-a458-7367ef1af9de",
        "colab": {
          "base_uri": "https://localhost:8080/"
        },
        "outputId": "167d4e92-a27e-460f-a899-59f60e849d95"
      },
      "outputs": [
        {
          "output_type": "stream",
          "name": "stdout",
          "text": [
            "Enter a number: 9\n",
            "The number is positive.\n"
          ]
        }
      ],
      "source": [
        "# Write a Python program that takes a number as input and checks whether it is positive, negative, or zero.\n",
        "\n",
        "\n",
        "\n",
        "# Input from the user\n",
        "num = float(input(\"Enter a number: \"))\n",
        "\n",
        "# Check the condition\n",
        "\n",
        "if num > 0:\n",
        "\n",
        "    print(\"The number is positive.\")\n",
        "elif num < 0:\n",
        "\n",
        "    print(\"The number is negative.\")\n",
        "else:\n",
        "\n",
        "    print(\"The number is zero.\")"
      ]
    },
    {
      "cell_type": "code",
      "execution_count": null,
      "id": "4dc6d14b-6d22-4348-859a-2a03f9be65f7",
      "metadata": {
        "id": "4dc6d14b-6d22-4348-859a-2a03f9be65f7",
        "colab": {
          "base_uri": "https://localhost:8080/"
        },
        "outputId": "50f4443f-02bf-4aeb-bf98-a1ddd16977fc"
      },
      "outputs": [
        {
          "output_type": "stream",
          "name": "stdout",
          "text": [
            "enter a first number:20\n",
            "enter a second number:30\n",
            "enter a third number:40\n",
            "maximum_number: 40.0\n"
          ]
        }
      ],
      "source": [
        "# Write a Python program to find the maximum of three numbers. (User input for the numbers)\n",
        "num1=float (input (\"enter a first number:\"))\n",
        "num2=float (input (\"enter a second number:\"))\n",
        "\n",
        "num3=float (input (\"enter a third number:\"))\n",
        "\n",
        "maximum_number=max(num1,num2,num3)\n",
        "print(\"maximum_number:\",maximum_number)"
      ]
    },
    {
      "cell_type": "code",
      "execution_count": null,
      "id": "3f6d1f45-eb68-4142-89d6-510046f21879",
      "metadata": {
        "id": "3f6d1f45-eb68-4142-89d6-510046f21879"
      },
      "outputs": [],
      "source": [
        "# Write a Python program to check if a year is a leap year. (User input for the year)"
      ]
    },
    {
      "cell_type": "code",
      "execution_count": null,
      "id": "b6a07105-6fa5-4f70-b64b-ebd66afc3c2b",
      "metadata": {
        "id": "b6a07105-6fa5-4f70-b64b-ebd66afc3c2b",
        "colab": {
          "base_uri": "https://localhost:8080/"
        },
        "outputId": "537d7604-f7a0-4942-cf21-9b87b6fde472"
      },
      "outputs": [
        {
          "output_type": "stream",
          "name": "stdout",
          "text": [
            "Enter a number: 20\n",
            "20 is not divisible by both 3 and 5.\n"
          ]
        }
      ],
      "source": [
        "# Write a Python program to check if a number is divisible by both 3 and 5. (User input for the number)\n",
        "\n",
        "num = int(input(\"Enter a number: \"))\n",
        "if num % 3 == 0 and num % 5 == 0:\n",
        "\n",
        "    print(f\"{num} is divisible by both 3 and 5.\")\n",
        "else:\n",
        "     print(f\"{num} is not divisible by both 3 and 5.\")"
      ]
    },
    {
      "cell_type": "code",
      "execution_count": null,
      "id": "d10c9005-b85d-42f9-81d0-65d149415888",
      "metadata": {
        "id": "d10c9005-b85d-42f9-81d0-65d149415888",
        "outputId": "725e69fe-f290-49f0-fd7f-9c31d5c6540b",
        "colab": {
          "base_uri": "https://localhost:8080/"
        }
      },
      "outputs": [
        {
          "output_type": "stream",
          "name": "stdout",
          "text": [
            "Enter a string: Bhuvana\n",
            "'Bhuvana' is not a palindrome.\n"
          ]
        }
      ],
      "source": [
        "# Write a Python program to check if a string is a palindrome. (User input for the string)\n",
        "\n",
        "\n",
        "string = input(\"Enter a string: \")\n",
        "\n",
        "if string == string[::-1]:\n",
        "    print(f\"'{string}' is a palindrome.\")\n",
        "else:\n",
        "    print(f\"'{string}' is not a palindrome.\")"
      ]
    },
    {
      "cell_type": "code",
      "execution_count": null,
      "id": "82d76cdf-efc6-45c6-ab09-9d1f17b3d857",
      "metadata": {
        "id": "82d76cdf-efc6-45c6-ab09-9d1f17b3d857",
        "colab": {
          "base_uri": "https://localhost:8080/"
        },
        "outputId": "1560ddd4-f39f-4b17-ec0f-d22c887ca8b2"
      },
      "outputs": [
        {
          "output_type": "stream",
          "name": "stdout",
          "text": [
            "1\n",
            "2\n",
            "3\n",
            "4\n",
            "5\n",
            "6\n",
            "7\n",
            "8\n",
            "9\n",
            "10\n"
          ]
        }
      ],
      "source": [
        "# Write a Python program to print numbers from 1 to 10 using a for loop.\n",
        "for number in range(1, 11):\n",
        "     print(number)"
      ]
    },
    {
      "cell_type": "code",
      "execution_count": null,
      "id": "d09e8994-e984-4c12-ab1e-1bfc6938a389",
      "metadata": {
        "id": "d09e8994-e984-4c12-ab1e-1bfc6938a389",
        "outputId": "d586dcd2-5118-4a8b-f576-db8c0431b439",
        "colab": {
          "base_uri": "https://localhost:8080/"
        }
      },
      "outputs": [
        {
          "output_type": "stream",
          "name": "stdout",
          "text": [
            "2\n",
            "4\n",
            "6\n",
            "8\n",
            "10\n",
            "12\n",
            "14\n",
            "16\n",
            "18\n",
            "20\n"
          ]
        }
      ],
      "source": [
        "# Write a Python program to print all even numbers from 1 to 20 using a while loop\n",
        "i=2\n",
        "while i<=20:\n",
        " if i % 2==0:\n",
        "  print(i)\n",
        "  i+=2"
      ]
    },
    {
      "cell_type": "code",
      "execution_count": null,
      "id": "c09ca878-167e-49ca-97f0-247a43c9b472",
      "metadata": {
        "id": "c09ca878-167e-49ca-97f0-247a43c9b472",
        "colab": {
          "base_uri": "https://localhost:8080/"
        },
        "outputId": "ee67ec29-8c1f-4428-8a5e-48a6c2f6a41f"
      },
      "outputs": [
        {
          "output_type": "stream",
          "name": "stdout",
          "text": [
            "Enter a number:6\n",
            "number, 1 = 6\n",
            "number, 2 = 12\n",
            "number, 3 = 18\n",
            "number, 4 = 24\n",
            "number, 5 = 30\n",
            "number, 6 = 36\n",
            "number, 7 = 42\n",
            "number, 8 = 48\n",
            "number, 9 = 54\n",
            "number, 10 = 60\n"
          ]
        }
      ],
      "source": [
        "# Write a Python program to print the multiplication table of a given number using a for loop. (User input for the numbe\n",
        "\n",
        "number=int(input(\"Enter a number:\"))\n",
        "for i in range(1, 11):\n",
        " print(\"number,\",i,\"=\",number*i)"
      ]
    },
    {
      "cell_type": "code",
      "execution_count": null,
      "id": "b72118ab-e62d-4af9-bcec-e1cc6af31b25",
      "metadata": {
        "id": "b72118ab-e62d-4af9-bcec-e1cc6af31b25",
        "outputId": "ae6b0cc8-17cf-4a6f-8ad0-73ed27a7bb88",
        "colab": {
          "base_uri": "https://localhost:8080/"
        }
      },
      "outputs": [
        {
          "output_type": "stream",
          "name": "stdout",
          "text": [
            "enter a number:8\n",
            "sum: 36\n"
          ]
        }
      ],
      "source": [
        "# Write a Python program to calculate the sum of all numbers from 1 to n using a while loop. (User input for n)\n",
        "n=int(input(\"enter a number:\"))\n",
        "sum=0\n",
        "i=1\n",
        "while i<=n:\n",
        "   sum+=i\n",
        "   i+=1\n",
        "print (\"sum:\",sum)"
      ]
    },
    {
      "cell_type": "code",
      "execution_count": null,
      "id": "ae93621f-11a2-40b7-97bc-3002f03ac36a",
      "metadata": {
        "id": "ae93621f-11a2-40b7-97bc-3002f03ac36a",
        "outputId": "ebb75200-cb94-4f91-e8f2-9acf641c2b8c",
        "colab": {
          "base_uri": "https://localhost:8080/"
        }
      },
      "outputs": [
        {
          "output_type": "stream",
          "name": "stdout",
          "text": [
            "enter a number:9\n",
            "factorial: 1\n"
          ]
        }
      ],
      "source": [
        "# Write a Python program to calculate the factorial of a number using a while loop. (User input for the number)\n",
        "n=int(input(\"enter a number:\"))\n",
        "f=1\n",
        "i=1\n",
        "while i<n:\n",
        "  f*=1\n",
        "  i+=1\n",
        "print(\"factorial:\",f)"
      ]
    },
    {
      "cell_type": "code",
      "execution_count": null,
      "id": "68467ccc-d696-4ef1-84c4-164c9d87f755",
      "metadata": {
        "id": "68467ccc-d696-4ef1-84c4-164c9d87f755",
        "outputId": "4aa265f3-7e7f-49e2-89db-2ac3417fb19c",
        "colab": {
          "base_uri": "https://localhost:8080/"
        }
      },
      "outputs": [
        {
          "output_type": "stream",
          "name": "stdout",
          "text": [
            "enter a number of terms:3\n",
            "0\n",
            "0\n",
            "0\n"
          ]
        }
      ],
      "source": [
        "# Write a Python program to print the Fibonacci sequence up to n terms. (User input for n)\n",
        "n=int(input(\"enter a number of terms:\"))\n",
        "a,b=0,1\n",
        "\n",
        "\n",
        "for i in range (n):\n",
        "  print(a)\n",
        "a,b=b,a+b"
      ]
    },
    {
      "cell_type": "code",
      "execution_count": null,
      "id": "5bebd1f3-2606-4102-aa55-01cb1650f632",
      "metadata": {
        "id": "5bebd1f3-2606-4102-aa55-01cb1650f632",
        "outputId": "2147d6d4-5f55-49f8-a9a1-9bbb999aa6b4",
        "colab": {
          "base_uri": "https://localhost:8080/"
        }
      },
      "outputs": [
        {
          "output_type": "stream",
          "name": "stdout",
          "text": [
            "100\n"
          ]
        }
      ],
      "source": [
        "# Write a Python program to find all the prime numbers from 1 to 100.\n",
        "for num in range(1,101):\n",
        "  if num>1:\n",
        "   for i in range(2,num):\n",
        "    if num % i==0:\n",
        "     break\n",
        "else:\n",
        " print(num)"
      ]
    },
    {
      "cell_type": "code",
      "execution_count": null,
      "id": "0a3f894e-52ba-4c0b-9158-a70f31f4fd49",
      "metadata": {
        "id": "0a3f894e-52ba-4c0b-9158-a70f31f4fd49",
        "outputId": "6b4f9e3e-3e48-44e0-e442-26808c2c008d",
        "colab": {
          "base_uri": "https://localhost:8080/"
        }
      },
      "outputs": [
        {
          "output_type": "stream",
          "name": "stdout",
          "text": [
            "Checking number: 10\n",
            "Checking number: 23\n",
            "Checking number: 45\n",
            "Checking number: 67\n",
            "Number 67 is greater than 50. Breaking out of the loop.\n"
          ]
        }
      ],
      "source": [
        "# Write a Python program that breaks out of a loop when a specific condition is met (e.g., when a number greater than 50 is found).\n",
        "\n",
        "numbers = [10, 23, 45, 67, 34, 50, 78]\n",
        "for number in numbers:\n",
        "    print(f\"Checking number: {number}\")\n",
        "    if number > 50:\n",
        "        print(f\"Number {number} is greater than 50. Breaking out of the loop.\")\n",
        "        break"
      ]
    },
    {
      "cell_type": "code",
      "execution_count": null,
      "id": "499b91d0-1f1b-494f-af2b-8cc3a06d90ed",
      "metadata": {
        "id": "499b91d0-1f1b-494f-af2b-8cc3a06d90ed",
        "colab": {
          "base_uri": "https://localhost:8080/"
        },
        "outputId": "885ca742-eab6-4ba7-eba0-0bb383479ada"
      },
      "outputs": [
        {
          "output_type": "stream",
          "name": "stdout",
          "text": [
            "1\n",
            "3\n",
            "5\n",
            "7\n",
            "9\n",
            "11\n",
            "13\n",
            "15\n",
            "17\n",
            "19\n"
          ]
        }
      ],
      "source": [
        "# Write a Python program to skip even numbers while printing numbers from 1 to 20 using a for loop.\n",
        "for i in range(1,21):\n",
        "  if i%2!=0:\n",
        "      print (i)"
      ]
    },
    {
      "cell_type": "code",
      "execution_count": null,
      "id": "f8ffed70-dfde-4262-a2fd-0d35d69b5fb1",
      "metadata": {
        "id": "f8ffed70-dfde-4262-a2fd-0d35d69b5fb1",
        "colab": {
          "base_uri": "https://localhost:8080/"
        },
        "outputId": "078b91b5-2f5d-4d13-cf96-6b6df3f691fa"
      },
      "outputs": [
        {
          "output_type": "stream",
          "name": "stdout",
          "text": [
            "enter a string:Hello \n",
            "enter a character:L\n",
            "the character 'L' appear 0 times.\n"
          ]
        }
      ],
      "source": [
        "# Write a Python program to count how many times a particular character appears in a string using a for loop. (User input for string and character)\n",
        "\n",
        "string=input (\"enter a string:\")\n",
        "character=input (\"enter a character:\")  # Change to 'character' (lowercase)\n",
        "count=0\n",
        "\n",
        "\n",
        "for i in string:\n",
        " if i ==character:  # Change to 'character' (lowercase)\n",
        "\n",
        "  count+=1  #  Changed to count+=1\n",
        "\n",
        "\n",
        "print(f\"the character '{character}' appear {count} times.\") # Corrected the f-string"
      ]
    },
    {
      "cell_type": "code",
      "execution_count": null,
      "id": "01f976ed-4dcd-4842-ae84-d3b5cc42d011",
      "metadata": {
        "id": "01f976ed-4dcd-4842-ae84-d3b5cc42d011",
        "colab": {
          "base_uri": "https://localhost:8080/",
          "height": 159
        },
        "outputId": "7d51336e-e964-480e-824f-43e6cdb80d1e"
      },
      "outputs": [
        {
          "output_type": "error",
          "ename": "IndentationError",
          "evalue": "unexpected indent (<ipython-input-71-5ead1161bf17>, line 8)",
          "traceback": [
            "\u001b[0;36m  File \u001b[0;32m\"<ipython-input-71-5ead1161bf17>\"\u001b[0;36m, line \u001b[0;32m8\u001b[0m\n\u001b[0;31m    print(\"Sum of digit :\", sum_ digit)\u001b[0m\n\u001b[0m    ^\u001b[0m\n\u001b[0;31mIndentationError\u001b[0m\u001b[0;31m:\u001b[0m unexpected indent\n"
          ]
        }
      ],
      "source": [
        "# Write a Python program to calculate the sum of digits of a number. (User input for the number)\n",
        "\n",
        "num = int(input(\"Enter a num :\"))\n",
        "\n",
        "sum_digits = sum(int(digit) for digit in str(num))\n",
        "\n",
        "\n",
        "  print(\"Sum of digit :\", sum_ digit)"
      ]
    },
    {
      "source": [
        "num=int(input(\"Enter a number:\")sum_digit"
      ],
      "cell_type": "code",
      "metadata": {
        "id": "__zqpTZBZQY4",
        "outputId": "247d93b4-15fc-41a5-d81a-b15d5995a852",
        "colab": {
          "base_uri": "https://localhost:8080/",
          "height": 159
        }
      },
      "id": "__zqpTZBZQY4",
      "execution_count": null,
      "outputs": [
        {
          "output_type": "error",
          "ename": "SyntaxError",
          "evalue": "'(' was never closed (<ipython-input-33-80636b758827>, line 1)",
          "traceback": [
            "\u001b[0;36m  File \u001b[0;32m\"<ipython-input-33-80636b758827>\"\u001b[0;36m, line \u001b[0;32m1\u001b[0m\n\u001b[0;31m    num=int(input(\"Enter a number:\")sum_digit\u001b[0m\n\u001b[0m           ^\u001b[0m\n\u001b[0;31mSyntaxError\u001b[0m\u001b[0;31m:\u001b[0m '(' was never closed\n"
          ]
        }
      ]
    },
    {
      "cell_type": "markdown",
      "id": "fe644fae-f262-48dd-b7ff-08eb747d297e",
      "metadata": {
        "id": "fe644fae-f262-48dd-b7ff-08eb747d297e"
      },
      "source": [
        "## Data Structures (Lists, Tuples, Sets, Dictionaries)"
      ]
    },
    {
      "cell_type": "code",
      "execution_count": null,
      "id": "a0333c26-8e19-4c71-9722-d32cf8625ef6",
      "metadata": {
        "id": "a0333c26-8e19-4c71-9722-d32cf8625ef6",
        "colab": {
          "base_uri": "https://localhost:8080/"
        },
        "outputId": "286d78df-2cca-4d64-81f5-1478aa57d091"
      },
      "outputs": [
        {
          "output_type": "stream",
          "name": "stdout",
          "text": [
            "The sum of the elements in the list is: 15\n"
          ]
        }
      ],
      "source": [
        "# Write a Python program to create a list of integers and print the sum of the elements.\n",
        "\n",
        "\n",
        "numbers =[1, 2, 3, 4, 5]\n",
        "\n",
        "\n",
        "import builtins\n",
        "sum = builtins.sum\n",
        "\n",
        "sum_of_numbers = sum(numbers)\n",
        "print(\"The sum of the elements in the list is:\", sum_of_numbers)"
      ]
    },
    {
      "cell_type": "code",
      "execution_count": null,
      "id": "5a23046d-80b0-4f8d-a02f-4e3d833c0443",
      "metadata": {
        "id": "5a23046d-80b0-4f8d-a02f-4e3d833c0443",
        "outputId": "d5dfe960-e34f-4954-f427-a319e05cb3ad",
        "colab": {
          "base_uri": "https://localhost:8080/"
        }
      },
      "outputs": [
        {
          "output_type": "stream",
          "name": "stdout",
          "text": [
            "The largest element is: 67\n"
          ]
        }
      ],
      "source": [
        "# Write a Python program to find the largest element in a list.\n",
        "\n",
        "my_list = [10, 25, 32, 5, 67, 23]\n",
        "largest_element = max(my_list)\n",
        "print(\"The largest element is:\", largest_element)"
      ]
    },
    {
      "cell_type": "code",
      "execution_count": null,
      "id": "9939c2d2-90fd-4e80-81bc-227c72e60e37",
      "metadata": {
        "id": "9939c2d2-90fd-4e80-81bc-227c72e60e37",
        "colab": {
          "base_uri": "https://localhost:8080/"
        },
        "outputId": "cd57b7b1-bbc7-4fe5-ff54-01c1aa76ded4"
      },
      "outputs": [
        {
          "output_type": "stream",
          "name": "stdout",
          "text": [
            "[5, 4, 3, 2, 1]\n"
          ]
        }
      ],
      "source": [
        "# Write a Python program to reverse a list.\n",
        "my_list = [1, 2, 3, 4, 5, ]\n",
        "print(my_list[::-1])"
      ]
    },
    {
      "cell_type": "code",
      "execution_count": null,
      "id": "aa287db8-057b-48d4-a6d8-18cc53eb7178",
      "metadata": {
        "id": "aa287db8-057b-48d4-a6d8-18cc53eb7178",
        "colab": {
          "base_uri": "https://localhost:8080/"
        },
        "outputId": "f8873fff-a57a-4f3f-e169-7cc5bab50dad"
      },
      "outputs": [
        {
          "output_type": "stream",
          "name": "stdout",
          "text": [
            "[1, 2, 4, 5]\n"
          ]
        }
      ],
      "source": [
        "# Write a Python program to remove all occurrences of a specific element from a list.\n",
        "\n",
        "my_list = [1, 2, 3, 4, 3, 5]\n",
        "my_list = [x for x in my_list if x != 3]\n",
        "\n",
        "print(my_list)"
      ]
    },
    {
      "cell_type": "code",
      "execution_count": null,
      "id": "da9ba926-0ab5-46e9-b66d-128088c3225b",
      "metadata": {
        "id": "da9ba926-0ab5-46e9-b66d-128088c3225b",
        "colab": {
          "base_uri": "https://localhost:8080/"
        },
        "outputId": "fcf5309c-3ade-4ed9-82e3-2f3c991d85b5"
      },
      "outputs": [
        {
          "output_type": "stream",
          "name": "stdout",
          "text": [
            "2\n"
          ]
        }
      ],
      "source": [
        "# Write a Python program to find the index of an element in a list.\n",
        "my_list = [1, 2, 3, 4, 5]\n",
        "index = my_list.index(3)\n",
        "print(index)"
      ]
    },
    {
      "cell_type": "code",
      "execution_count": null,
      "id": "9601b6e4-cb90-4e1f-87b4-38ed37076e0d",
      "metadata": {
        "id": "9601b6e4-cb90-4e1f-87b4-38ed37076e0d",
        "outputId": "543a6717-bf07-4b38-9008-22e3f578006d",
        "colab": {
          "base_uri": "https://localhost:8080/"
        }
      },
      "outputs": [
        {
          "output_type": "stream",
          "name": "stdout",
          "text": [
            "4 exists the list.\n"
          ]
        }
      ],
      "source": [
        "\n",
        "\n",
        "\n",
        "# Write a Python program to find if a specific element exists in a list.\n",
        "list = [1,2,3,4,5,6,]\n",
        "element = 4\n",
        "if element in list:\n",
        "   print (f\"{element} exists the list.\")\n",
        "else:\n",
        "   print (f\"{element} does not exists the list.\")"
      ]
    },
    {
      "cell_type": "code",
      "execution_count": null,
      "id": "9d8e7311-81de-4da2-826c-c4dcad28ed9f",
      "metadata": {
        "id": "9d8e7311-81de-4da2-826c-c4dcad28ed9f",
        "outputId": "5b4a04a3-9580-4fcb-a674-2506f3719abd",
        "colab": {
          "base_uri": "https://localhost:8080/"
        }
      },
      "outputs": [
        {
          "output_type": "stream",
          "name": "stdout",
          "text": [
            "{1, 2, 3, 4, 5, 6, 7, 8}\n"
          ]
        }
      ],
      "source": [
        "# Write a Python program to remove duplicates from a list.\n",
        "list = [1,2,3,4,5,6,4,5,6,7,8]\n",
        "unique_list=(set(list))\n",
        "print(unique_list)"
      ]
    },
    {
      "cell_type": "code",
      "execution_count": null,
      "id": "09e5121b-97b3-42e4-8025-f28f3470681b",
      "metadata": {
        "id": "09e5121b-97b3-42e4-8025-f28f3470681b",
        "outputId": "c7dec10e-9b48-4ae3-c515-5c0fde78ba22",
        "colab": {
          "base_uri": "https://localhost:8080/"
        }
      },
      "outputs": [
        {
          "output_type": "stream",
          "name": "stdout",
          "text": [
            "2\n"
          ]
        }
      ],
      "source": [
        "# Write a Python program to count the occurrences of an element in a list.\n",
        "list = [1,2,3,4,9,8,5,3,4,7]\n",
        "element = 4\n",
        "count = list.count(element)\n",
        "print (count )"
      ]
    },
    {
      "cell_type": "code",
      "execution_count": null,
      "id": "b774b741-e9a6-45db-8f00-e6d9b734d03a",
      "metadata": {
        "id": "b774b741-e9a6-45db-8f00-e6d9b734d03a",
        "outputId": "bf3e2992-3d86-4dc2-bb33-051b2ab124bf",
        "colab": {
          "base_uri": "https://localhost:8080/"
        }
      },
      "outputs": [
        {
          "output_type": "stream",
          "name": "stdout",
          "text": [
            "5\n"
          ]
        }
      ],
      "source": [
        "# Write a Python program to get the number of even numbers in a list.\n",
        "list = [1,2,3,4,5,6,7,8,9,10,11]\n",
        "count = 0\n",
        "for i in list:\n",
        "  if i % 2 == 0:\n",
        "     count+=1\n",
        "print (count)"
      ]
    },
    {
      "cell_type": "code",
      "execution_count": null,
      "id": "5ce4fd2b-ab16-4b40-9ac2-d19c244d8d96",
      "metadata": {
        "id": "5ce4fd2b-ab16-4b40-9ac2-d19c244d8d96",
        "outputId": "3583d9e9-ddb9-4d94-87e3-91ec22a40abb",
        "colab": {
          "base_uri": "https://localhost:8080/"
        }
      },
      "outputs": [
        {
          "output_type": "stream",
          "name": "stdout",
          "text": [
            "[1, 2, 3, 4, 5, 6, 7]\n"
          ]
        }
      ],
      "source": [
        "# Write a Python program to create a tuple and print it.\n",
        "tuple = [1,2,3,4,5,6,7]\n",
        "print (tuple)"
      ]
    },
    {
      "cell_type": "code",
      "execution_count": null,
      "id": "5c04f880-6e96-4ef4-9f4b-df21aae76ff1",
      "metadata": {
        "id": "5c04f880-6e96-4ef4-9f4b-df21aae76ff1",
        "outputId": "78bb4409-023f-45e0-dc9c-78f38f030a57",
        "colab": {
          "base_uri": "https://localhost:8080/"
        }
      },
      "outputs": [
        {
          "output_type": "stream",
          "name": "stdout",
          "text": [
            "Original Tuple: (1, 2, 3, 4, 5, 6)\n",
            "Tuple convered to List: [1, 2, 3, 4, 5, 6]\n",
            "List converted back to Tuple: (1, 2, 3, 4, 5, 6)\n"
          ]
        }
      ],
      "source": [
        "# Write a Python program to convert a tuple to a list and vice versa\n",
        "my_tuple = (1,2,3,4,5,6)\n",
        "print(\"Original Tuple:\",my_tuple)\n",
        "my_list = list(my_tuple)\n",
        "print(\"Tuple convered to List:\",my_list)\n",
        "my_tuple_again = tuple(my_list)\n",
        "print(\"List converted back to Tuple:\",my_tuple_again)"
      ]
    },
    {
      "cell_type": "code",
      "execution_count": null,
      "id": "d5192acc-27f3-456e-9c72-3b276a587bf5",
      "metadata": {
        "id": "d5192acc-27f3-456e-9c72-3b276a587bf5",
        "outputId": "209aa3b9-d299-46e2-8d17-77b9f937498b",
        "colab": {
          "base_uri": "https://localhost:8080/"
        }
      },
      "outputs": [
        {
          "output_type": "stream",
          "name": "stdout",
          "text": [
            "maximum of the tuple: 11\n",
            "minimum of the tuple: 1\n"
          ]
        }
      ],
      "source": [
        "# Write a Python program to find the maximum and minimum values in a tuple.\n",
        "tuple = (1,2, 3, 4,5,6,7,8,9,10,11)\n",
        "maximum=max(tuple)\n",
        "Minimum=min(tuple)\n",
        "print (\"maximum of the tuple:\",max(tuple))\n",
        "print (\"minimum of the tuple:\",min(tuple))"
      ]
    },
    {
      "cell_type": "code",
      "execution_count": null,
      "id": "43f0a340-9407-4302-af7e-4e63db578bbf",
      "metadata": {
        "id": "43f0a340-9407-4302-af7e-4e63db578bbf",
        "outputId": "a32492ae-8c35-4311-fef0-24a0a0e29e0b",
        "colab": {
          "base_uri": "https://localhost:8080/"
        }
      },
      "outputs": [
        {
          "output_type": "stream",
          "name": "stdout",
          "text": [
            "1\n",
            "2\n",
            "3\n"
          ]
        }
      ],
      "source": [
        "# Write a Python program to unpack a tuple into variables.\n",
        "my_tuple = (1,2,3)\n",
        "a,b,c = my_tuple\n",
        "print (a)\n",
        "print (b)\n",
        "print (c)"
      ]
    },
    {
      "cell_type": "code",
      "execution_count": 6,
      "id": "46e96e29-2157-4b9f-bb24-0bd973eada9f",
      "metadata": {
        "id": "46e96e29-2157-4b9f-bb24-0bd973eada9f",
        "outputId": "c31ddae3-3956-4100-d58a-c4a3d7e02fe7",
        "colab": {
          "base_uri": "https://localhost:8080/"
        }
      },
      "outputs": [
        {
          "output_type": "stream",
          "name": "stdout",
          "text": [
            "{1, 2, 3, 4, 5, 6, 7}\n",
            "3 exists in the set.\n"
          ]
        }
      ],
      "source": [
        "# Write a Python program to add an element to a set and check if an element exists in the set.\n",
        "my_set = {1,2,3,4,5,6 }\n",
        "my_set.add(7)\n",
        "print (my_set)\n",
        "element = 3\n",
        "if element in my_set:\n",
        "    print (f\"{element} exists in the set.\")"
      ]
    },
    {
      "cell_type": "code",
      "execution_count": 12,
      "id": "d81a803b-fd80-403e-9ae3-680ef44a3d86",
      "metadata": {
        "id": "d81a803b-fd80-403e-9ae3-680ef44a3d86",
        "outputId": "db2122fd-1529-4225-9b18-db56898cb5c2",
        "colab": {
          "base_uri": "https://localhost:8080/"
        }
      },
      "outputs": [
        {
          "output_type": "stream",
          "name": "stdout",
          "text": [
            "{'a': 1, 'b': 2, 'c': 3}\n"
          ]
        }
      ],
      "source": [
        "# Write a Python program to create a dictionary with keys and values and print it.\n",
        "my_dict = {'a':1,'b':2,'c':3}\n",
        "print(my_dict)"
      ]
    },
    {
      "cell_type": "code",
      "execution_count": 26,
      "id": "7432174b-fe75-4371-b23a-e2c5d62edb15",
      "metadata": {
        "id": "7432174b-fe75-4371-b23a-e2c5d62edb15",
        "outputId": "95be35d1-86bd-467f-e983-5c112fcac958",
        "colab": {
          "base_uri": "https://localhost:8080/"
        }
      },
      "outputs": [
        {
          "output_type": "stream",
          "name": "stdout",
          "text": [
            "1\n"
          ]
        }
      ],
      "source": [
        "# Write a Python program to access a dictionary value using a key.\n",
        "my_dict = {'a':1 ,'b':2 ,'c':3}\n",
        "value =my_dict['a']\n",
        "print (value)"
      ]
    },
    {
      "cell_type": "code",
      "execution_count": 39,
      "id": "000b3260-d91f-41f2-9729-4b0124f2c4d2",
      "metadata": {
        "id": "000b3260-d91f-41f2-9729-4b0124f2c4d2"
      },
      "outputs": [],
      "source": [
        "# Write a Python program to check if a key exists in a dictionary.\n",
        "my_dict = {'a':1,'b':2,'c':3}\n",
        "key ='m'\n",
        "if key in my_dict:\n",
        "  print(f\" the key '{key}'exists in the dictionary.\")"
      ]
    },
    {
      "cell_type": "code",
      "execution_count": null,
      "id": "c4b1a942-818e-42c1-b742-1fabe80fca6d",
      "metadata": {
        "id": "c4b1a942-818e-42c1-b742-1fabe80fca6d"
      },
      "outputs": [],
      "source": [
        "# Write a Python program to merge two dictionaries."
      ]
    },
    {
      "cell_type": "code",
      "execution_count": 31,
      "id": "a78f1070-3ff3-436a-8391-153f019f53cd",
      "metadata": {
        "id": "a78f1070-3ff3-436a-8391-153f019f53cd",
        "outputId": "2f0c3a79-85f9-4968-daee-a08fc407068d",
        "colab": {
          "base_uri": "https://localhost:8080/"
        }
      },
      "outputs": [
        {
          "output_type": "stream",
          "name": "stdout",
          "text": [
            "{'b': 2, 'c': 3}\n"
          ]
        }
      ],
      "source": [
        "# Write a Python pro ingram to remove a key from a dictionary.\n",
        "my_dict ={'a':1,'b':2,'c':3}\n",
        "del my_dict['a']\n",
        "print (my_dict)"
      ]
    },
    {
      "cell_type": "code",
      "execution_count": null,
      "id": "fcba0267-8cc4-4e89-9e78-2d820916c177",
      "metadata": {
        "id": "fcba0267-8cc4-4e89-9e78-2d820916c177"
      },
      "outputs": [],
      "source": [
        "# Write a Python program to get the number of keys in a dictionary."
      ]
    },
    {
      "cell_type": "code",
      "execution_count": null,
      "id": "d4c5fd77-9656-43e5-8fe2-be7dca23eb6d",
      "metadata": {
        "id": "d4c5fd77-9656-43e5-8fe2-be7dca23eb6d"
      },
      "outputs": [],
      "source": [
        "# Write a Python program to find the largest and smallest values in a dictionary."
      ]
    },
    {
      "cell_type": "markdown",
      "id": "7830b8cc-9a90-45a2-8e4a-6f3c2b8b133b",
      "metadata": {
        "id": "7830b8cc-9a90-45a2-8e4a-6f3c2b8b133b"
      },
      "source": [
        "## Functions (User-Defined, Arguments, Keyword Arguments, Return Values)"
      ]
    },
    {
      "cell_type": "code",
      "execution_count": null,
      "id": "06a33fba-c6b1-4989-90f4-b647d1fe1627",
      "metadata": {
        "id": "06a33fba-c6b1-4989-90f4-b647d1fe1627"
      },
      "outputs": [],
      "source": [
        "# Write a Python function that returns the square of a number."
      ]
    },
    {
      "cell_type": "code",
      "execution_count": null,
      "id": "91d90a4a-7329-45db-893b-caed8450ba96",
      "metadata": {
        "id": "91d90a4a-7329-45db-893b-caed8450ba96"
      },
      "outputs": [],
      "source": [
        "# Write a Python function that accepts two parameters and returns their sum."
      ]
    },
    {
      "cell_type": "code",
      "execution_count": null,
      "id": "dec2f9a5-90c5-478b-890b-0a506ecf45d3",
      "metadata": {
        "id": "dec2f9a5-90c5-478b-890b-0a506ecf45d3"
      },
      "outputs": [],
      "source": [
        "# Write a Python function to check if a given number is prime."
      ]
    },
    {
      "cell_type": "code",
      "execution_count": null,
      "id": "56337441-68c3-45df-8733-a34cde0533a5",
      "metadata": {
        "id": "56337441-68c3-45df-8733-a34cde0533a5"
      },
      "outputs": [],
      "source": [
        "# Write a Python function to calculate the factorial of a number using recursion."
      ]
    },
    {
      "cell_type": "code",
      "execution_count": null,
      "id": "84a2d010-e7b2-409b-b1f4-99bf806bb77a",
      "metadata": {
        "id": "84a2d010-e7b2-409b-b1f4-99bf806bb77a"
      },
      "outputs": [],
      "source": [
        "# Write a Python function to calculate the power of a number using recursion."
      ]
    },
    {
      "cell_type": "code",
      "execution_count": null,
      "id": "ec44911e-7820-46cc-96a3-4ca443888837",
      "metadata": {
        "id": "ec44911e-7820-46cc-96a3-4ca443888837"
      },
      "outputs": [],
      "source": [
        "# Write a Python function to accept a list and return its length without using the built-in len() function."
      ]
    },
    {
      "cell_type": "code",
      "execution_count": null,
      "id": "fb4c08e1-34f3-487a-a1c6-77cd60fb4836",
      "metadata": {
        "id": "fb4c08e1-34f3-487a-a1c6-77cd60fb4836"
      },
      "outputs": [],
      "source": [
        "# Write a Python function that accepts both positional and keyword arguments and prints the sum of positional arguments."
      ]
    },
    {
      "cell_type": "code",
      "execution_count": null,
      "id": "f4ffc7a8-f579-461c-b507-4085a0477283",
      "metadata": {
        "id": "f4ffc7a8-f579-461c-b507-4085a0477283"
      },
      "outputs": [],
      "source": [
        "# Write a Python function to find the maximum of two numbers using keyword arguments."
      ]
    },
    {
      "cell_type": "code",
      "execution_count": null,
      "id": "0b00c4af-89e0-43e8-a991-1b684d2ce33f",
      "metadata": {
        "id": "0b00c4af-89e0-43e8-a991-1b684d2ce33f"
      },
      "outputs": [],
      "source": [
        "# Write a Python function that accepts a list of numbers and returns their product."
      ]
    },
    {
      "cell_type": "code",
      "execution_count": null,
      "id": "9cd11703-5b48-44fe-af4e-ea906a2762c9",
      "metadata": {
        "id": "9cd11703-5b48-44fe-af4e-ea906a2762c9"
      },
      "outputs": [],
      "source": [
        "# Write a Python function to check if a number is even or odd using the modulo operator."
      ]
    },
    {
      "cell_type": "code",
      "execution_count": null,
      "id": "afbf262e-daed-40a9-827f-82fa60979610",
      "metadata": {
        "id": "afbf262e-daed-40a9-827f-82fa60979610"
      },
      "outputs": [],
      "source": [
        "# Write a Python program to create a list of squares of numbers from 1 to 10 using list comprehension."
      ]
    },
    {
      "cell_type": "code",
      "execution_count": null,
      "id": "7fff76d8-9ba8-4006-9be6-6f7350092d1c",
      "metadata": {
        "id": "7fff76d8-9ba8-4006-9be6-6f7350092d1c"
      },
      "outputs": [],
      "source": [
        "# Write a Python program to filter out all even numbers from a list using list comprehension."
      ]
    },
    {
      "cell_type": "code",
      "execution_count": null,
      "id": "6ae9b8df-38f9-4fd7-bad1-aa7b07cc9271",
      "metadata": {
        "id": "6ae9b8df-38f9-4fd7-bad1-aa7b07cc9271"
      },
      "outputs": [],
      "source": [
        "# Write a Python program to create a list of strings that are longer than 4 characters from a given list of words using list comprehension."
      ]
    },
    {
      "cell_type": "code",
      "execution_count": null,
      "id": "f492c7d4-6ad3-48ab-9b61-232be02aecee",
      "metadata": {
        "id": "f492c7d4-6ad3-48ab-9b61-232be02aecee"
      },
      "outputs": [],
      "source": [
        "# Write a Python program to create a list of all uppercase letters in a string using list comprehension."
      ]
    },
    {
      "cell_type": "code",
      "execution_count": null,
      "id": "929a7f74-1762-4a2a-be23-bacf67ff4d8b",
      "metadata": {
        "id": "929a7f74-1762-4a2a-be23-bacf67ff4d8b"
      },
      "outputs": [],
      "source": [
        "# Write a Python program to generate the first n Fibonacci numbers using list comprehension."
      ]
    },
    {
      "cell_type": "code",
      "execution_count": null,
      "id": "47188bbc-cf62-47bb-a14e-0582c8b5cdd9",
      "metadata": {
        "id": "47188bbc-cf62-47bb-a14e-0582c8b5cdd9"
      },
      "outputs": [],
      "source": [
        "# Write a Python program to create a dictionary where keys are numbers and values are their squares using dictionary comprehension."
      ]
    },
    {
      "cell_type": "code",
      "execution_count": null,
      "id": "3c4637d3-aa85-4b4c-acf3-953c10818bcb",
      "metadata": {
        "id": "3c4637d3-aa85-4b4c-acf3-953c10818bcb"
      },
      "outputs": [],
      "source": [
        "# Write a Python program to create a dictionary from two lists (one for keys and one for values) using dictionary comprehension."
      ]
    },
    {
      "cell_type": "code",
      "execution_count": null,
      "id": "de817d6f-96e7-4346-839e-1ef0df539b6b",
      "metadata": {
        "id": "de817d6f-96e7-4346-839e-1ef0df539b6b"
      },
      "outputs": [],
      "source": [
        "# Write a Python program to create a dictionary of numbers from 1 to 5 and their cubes using dictionary comprehension."
      ]
    },
    {
      "cell_type": "code",
      "execution_count": null,
      "id": "33695301-057e-49a6-9f80-a2f4e3af60ed",
      "metadata": {
        "id": "33695301-057e-49a6-9f80-a2f4e3af60ed"
      },
      "outputs": [],
      "source": [
        "# Write a Python program to square each element of a list using the map() function."
      ]
    },
    {
      "cell_type": "code",
      "execution_count": null,
      "id": "6d4d17f3-c40f-4944-8656-c6416b600361",
      "metadata": {
        "id": "6d4d17f3-c40f-4944-8656-c6416b600361"
      },
      "outputs": [],
      "source": [
        "# Write a Python program to filter all even numbers from a list using the filter() function."
      ]
    },
    {
      "cell_type": "code",
      "execution_count": null,
      "id": "6634ba1f-9f81-475e-b7c4-422d102afb75",
      "metadata": {
        "id": "6634ba1f-9f81-475e-b7c4-422d102afb75"
      },
      "outputs": [],
      "source": [
        "# Write a Python program to use a lambda function to check if a number is divisible by both 3 and 5."
      ]
    },
    {
      "cell_type": "code",
      "execution_count": null,
      "id": "0aac8430-5d77-439d-9a99-9598fadf989c",
      "metadata": {
        "id": "0aac8430-5d77-439d-9a99-9598fadf989c"
      },
      "outputs": [],
      "source": [
        "# Write a Python program to multiply all numbers in a list by 2 using a lambda function inside map()."
      ]
    },
    {
      "cell_type": "code",
      "execution_count": null,
      "id": "e4cd5ba8-c6ec-4f0d-8787-bf0a4b7a2e22",
      "metadata": {
        "id": "e4cd5ba8-c6ec-4f0d-8787-bf0a4b7a2e22"
      },
      "outputs": [],
      "source": [
        "# Write a Python program to remove all occurrences of a specific element from a list."
      ]
    },
    {
      "cell_type": "markdown",
      "id": "caba77c7-93db-4893-8f48-c7365ed5c585",
      "metadata": {
        "id": "caba77c7-93db-4893-8f48-c7365ed5c585"
      },
      "source": [
        "**Note:**\n",
        "- All assignments must follow [PEP 8 – Style Guide for Python Code](https://peps.python.org/pep-0008/) guidelines.\n",
        "- You can add multiple solutions for each question. Create a new code cell next to the question and add it. Shortcut for creating cell : `Alt + Enter`"
      ]
    }
  ],
  "metadata": {
    "kernelspec": {
      "display_name": "Python 3 (ipykernel)",
      "language": "python",
      "name": "python3"
    },
    "language_info": {
      "codemirror_mode": {
        "name": "ipython",
        "version": 3
      },
      "file_extension": ".py",
      "mimetype": "text/x-python",
      "name": "python",
      "nbconvert_exporter": "python",
      "pygments_lexer": "ipython3",
      "version": "3.12.6"
    },
    "colab": {
      "provenance": [],
      "include_colab_link": true
    }
  },
  "nbformat": 4,
  "nbformat_minor": 5
}